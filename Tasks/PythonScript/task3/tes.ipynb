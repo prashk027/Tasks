{
 "cells": [
  {
   "cell_type": "code",
   "execution_count": 1,
   "id": "7c7f2350",
   "metadata": {},
   "outputs": [
    {
     "name": "stdout",
     "output_type": "stream",
     "text": [
      "thon\n"
     ]
    }
   ],
   "source": [
    "def strin(st,n):\n",
    "    print(st[n:])\n",
    "strin('Python',2)"
   ]
  },
  {
   "cell_type": "code",
   "execution_count": 4,
   "id": "189edcb7",
   "metadata": {},
   "outputs": [
    {
     "data": {
      "text/plain": [
       "'thon'"
      ]
     },
     "execution_count": 4,
     "metadata": {},
     "output_type": "execute_result"
    }
   ],
   "source": [
    "def strin(st,n):\n",
    "    return(st[n:])\n",
    "strin('Python',2)"
   ]
  },
  {
   "cell_type": "code",
   "execution_count": 1,
   "id": "cf9ba34f",
   "metadata": {},
   "outputs": [
    {
     "name": "stdout",
     "output_type": "stream",
     "text": [
      "[1]\n",
      "[1, 2]\n",
      "[2, 3, 4]\n",
      "[4, 5, 6, 7]\n",
      "[7, 8, 9, 10, 11]\n"
     ]
    }
   ],
   "source": [
    "li = list(range(1,16))\n",
    "add = 0\n",
    "for i in range(1,6):\n",
    "    print(li[add:add+i])\n",
    "    add = add+i-1\n",
    "    # print(li[add:add+i])\n",
    "    # print(li[add+i+1],add+i-1)\n",
    "    # print(li[add+i-1])\n"
   ]
  },
  {
   "cell_type": "code",
   "execution_count": null,
   "id": "2fd4bb63",
   "metadata": {},
   "outputs": [
    {
     "name": "stdout",
     "output_type": "stream",
     "text": [
      "1 \n",
      "2 3 \n",
      "4 5 6 \n",
      "7 8 9 10 \n",
      "11 12 13 14 15 \n"
     ]
    }
   ],
   "source": [
    "cnt=1  \n",
    "for i in range(1,6):\n",
    "    for j in range(i):\n",
    "        print(cnt,end=' ')\n",
    "        cnt+=1\n",
    "    print()"
   ]
  },
  {
   "cell_type": "code",
   "execution_count": 5,
   "id": "4fee2dd7",
   "metadata": {},
   "outputs": [
    {
     "name": "stdout",
     "output_type": "stream",
     "text": [
      "12\n"
     ]
    }
   ],
   "source": [
    "emp_dict = {\n",
    "    \"company\": {\n",
    "        \"employee\": {\n",
    "            \"name\": \"Jess\",\n",
    "            \"payable\": {\n",
    "                \"salary\": 9000,\n",
    "                \"increment\": 12\n",
    "            }\n",
    "        }\n",
    "    }\n",
    "}\n",
    "\n",
    "print(emp_dict[\"company\"]['employee']['payable']['increment'])"
   ]
  },
  {
   "cell_type": "code",
   "execution_count": 12,
   "id": "b4670e45",
   "metadata": {},
   "outputs": [
    {
     "name": "stdout",
     "output_type": "stream",
     "text": [
      "[5, [10, 15, [20, 25, [30, 3500], 40], 45], 50]\n"
     ]
    }
   ],
   "source": [
    "# 35 - 3500\n",
    "list1 = [5, [10, 15, [20, 25, [30, 35], 40], 45], 50]\n",
    "list1[1][2][2][1]=3500\n",
    "print(list1)"
   ]
  },
  {
   "cell_type": "code",
   "execution_count": 15,
   "id": "ce1a8ca4",
   "metadata": {},
   "outputs": [
    {
     "name": "stdout",
     "output_type": "stream",
     "text": [
      "EmmaKellyDevelopers\n"
     ]
    }
   ],
   "source": [
    "def outer(x,y):\n",
    "    def inner(x,y):\n",
    "        return x+y\n",
    "    return inner(x,y)+'Developers'\n",
    "print(outer(x=\"Emma\",y=\"Kelly\"))"
   ]
  },
  {
   "cell_type": "markdown",
   "id": "137c18a2",
   "metadata": {},
   "source": [
    "1 1 1 1 1 \\\n",
    "2 2 2 2 \\\n",
    "3 3 3 \\\n",
    "4 4 \\\n",
    "5"
   ]
  },
  {
   "cell_type": "code",
   "execution_count": 18,
   "id": "d9ef34bd",
   "metadata": {},
   "outputs": [
    {
     "name": "stdout",
     "output_type": "stream",
     "text": [
      "1 1 1 1 1 \n",
      "2 2 2 2 \n",
      "3 3 3 \n",
      "4 4 \n",
      "5 \n"
     ]
    }
   ],
   "source": [
    "for i in range(1,6):\n",
    "    for j in range(6,i,-1):\n",
    "        print(i,end=' ')\n",
    "    print()"
   ]
  },
  {
   "cell_type": "code",
   "execution_count": 23,
   "id": "4a66fbb1",
   "metadata": {},
   "outputs": [
    {
     "name": "stdout",
     "output_type": "stream",
     "text": [
      "{'A': 65, 'C': 67, 'F': 70}\n"
     ]
    }
   ],
   "source": [
    "d1 = {'A': 65, 'B': 66, 'C': 67, 'D': 68, 'E': 69, 'F': 70}\n",
    "l1 = ['A', 'C', 'F']\n",
    "\n",
    "new_di = {}\n",
    "\n",
    "for i in l1:\n",
    "    if i in d1:\n",
    "        new_di[i]=d1[i]\n",
    "\n",
    "print(new_di)"
   ]
  },
  {
   "cell_type": "code",
   "execution_count": null,
   "id": "79162bfe",
   "metadata": {},
   "outputs": [
    {
     "name": "stdout",
     "output_type": "stream",
     "text": [
      "[20, 60, 30]\n"
     ]
    }
   ],
   "source": [
    "sample_list = [10, 20, 60, 30, 20, 40, 30, 60, 70, 80]\n",
    "\n",
    "repeat={}\n",
    "\n",
    "for i in sample_list:\n",
    "    if i in repeat:\n",
    "        repeat[i] += 1\n",
    "    else:\n",
    "        repeat[i] = 1\n",
    "\n",
    "res=[]\n",
    "for k,v in repeat.items():\n",
    "    if v > 1:\n",
    "        res.append(k)\n",
    "print(res)"
   ]
  },
  {
   "cell_type": "code",
   "execution_count": 34,
   "id": "b8c1c7ac",
   "metadata": {},
   "outputs": [
    {
     "name": "stdout",
     "output_type": "stream",
     "text": [
      "{65: 'A', 66: 'B', 67: 'C', 68: 'D'}\n"
     ]
    }
   ],
   "source": [
    "ascii_dict = {'A': 65, 'B': 66, 'C': 67, 'D': 68}\n",
    "\n",
    "res_dict = {}\n",
    "\n",
    "for k,v in ascii_dict.items():\n",
    "    res_dict[v]=k\n",
    "\n",
    "re_dict = {v:k for k, v in ascii_dict.items()}\n",
    "\n",
    "print(re_dict)"
   ]
  },
  {
   "cell_type": "code",
   "execution_count": 35,
   "id": "3a24a2c9",
   "metadata": {},
   "outputs": [
    {
     "name": "stdout",
     "output_type": "stream",
     "text": [
      "[10, 20, 30, 40, 50]\n"
     ]
    }
   ],
   "source": [
    "number_list = [10, 20, 30, 40, 50, 60, 70, 80, 90, 100]\n",
    "\n",
    "res = [i for i in number_list if i<=50]\n",
    "print(res)"
   ]
  },
  {
   "cell_type": "code",
   "execution_count": null,
   "id": "73596d5e",
   "metadata": {},
   "outputs": [],
   "source": []
  }
 ],
 "metadata": {
  "kernelspec": {
   "display_name": "Python 3",
   "language": "python",
   "name": "python3"
  },
  "language_info": {
   "codemirror_mode": {
    "name": "ipython",
    "version": 3
   },
   "file_extension": ".py",
   "mimetype": "text/x-python",
   "name": "python",
   "nbconvert_exporter": "python",
   "pygments_lexer": "ipython3",
   "version": "3.13.3"
  }
 },
 "nbformat": 4,
 "nbformat_minor": 5
}
