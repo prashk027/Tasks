{
 "cells": [
  {
   "cell_type": "code",
   "execution_count": 1,
   "id": "dda5c219-b583-4d4d-9835-6c912487eef7",
   "metadata": {},
   "outputs": [],
   "source": [
    "# !pip install selenium\n",
    "# !pip install webdriver-manager  # no need to download any driver file"
   ]
  },
  {
   "cell_type": "code",
   "execution_count": 3,
   "id": "2a923e0c",
   "metadata": {},
   "outputs": [],
   "source": [
    "from selenium import webdriver\n",
    "from selenium.webdriver.edge.service import Service\n",
    "from webdriver_manager.microsoft import EdgeChromiumDriverManager\n",
    "\n",
    "''' previously it was used \n",
    "# PATH = \"C:Program Files (x86)/msedgedriver.exe\"\n",
    "# driver = webdriver.Edge()\n",
    "'''\n",
    "\n",
    "driver = webdriver.Edge(service=Service(EdgeChromiumDriverManager().install()))\n",
    "driver.maximize_window()    # to maximize the web page\n",
    "driver.get('https://www.screener.in/')\n"
   ]
  },
  {
   "cell_type": "code",
   "execution_count": 7,
   "id": "dc8c19a9",
   "metadata": {},
   "outputs": [],
   "source": [
    "# used if it close automatically\n",
    "from selenium import webdriver\n",
    "from selenium.webdriver.edge.service import Service\n",
    "from webdriver_manager.microsoft import EdgeChromiumDriverManager\n",
    "from selenium.webdriver.edge.options import Options\n",
    "\n",
    "edge_options = Options()\n",
    "edge_options.add_experimental_option(\"detach\",True)\n",
    "\n",
    "driver = webdriver.Edge(service=Service(EdgeChromiumDriverManager().install()),options=edge_options) # it was closing on its own to not able to do it \n",
    "driver.get('https://www.screener.in/')\n"
   ]
  },
  {
   "cell_type": "markdown",
   "id": "85c02f6f",
   "metadata": {},
   "source": [
    "### Different methods"
   ]
  },
  {
   "cell_type": "code",
   "execution_count": 40,
   "id": "e811cc23",
   "metadata": {},
   "outputs": [],
   "source": [
    "from selenium import webdriver\n",
    "from selenium.webdriver.edge.service import Service\n",
    "from webdriver_manager.microsoft import EdgeChromiumDriverManager\n",
    "from selenium.webdriver.common.by import By\n",
    "from selenium.webdriver.common.keys import Keys # to use enter \n",
    "import time\n",
    "\n",
    "\n",
    "driver = webdriver.Edge(service=Service(EdgeChromiumDriverManager().install()))\n",
    "# driver.maximize_window()    # to maximize the web page\n",
    "driver.get('https://www.screener.in/')\n",
    "\n",
    "# xpath Method\n",
    "input = driver.find_element(By.XPATH,'/html/body/main/div[2]/div/div/div/input')\n",
    "input.send_keys(\"Vedanta\")\n",
    "input.send_keys(Keys.RETURN)\n",
    "\n",
    "# classmethod\n",
    "# input = driver.find_element(By.CLASS_NAME,'u-full-width')\n",
    "# input.send_keys(\"Vedanta\")\n",
    "\n",
    "# tagname method\n",
    "# input = driver.find_element(By.TAG_NAME,'input')\n",
    "# input.send_keys(\"Vedanta\")\n",
    "\n",
    "# name method\n",
    "# driver.get(\"https://www.google.com\")\n",
    "# input = driver.find_element(By.NAME,'q').send_keys(\"Ferrari\")\n",
    "\n",
    "# Partial link text\n",
    "# driver.find_element(By.PARTIAL_LINK_TEXT,\"Gmail\").click()\n",
    "\n",
    "# Link text\n",
    "# driver.find_element(By.LINK_TEXT,'Login').click()\n"
   ]
  },
  {
   "cell_type": "markdown",
   "id": "e9c9bd35",
   "metadata": {},
   "source": [
    "# For multiple rows"
   ]
  },
  {
   "cell_type": "code",
   "execution_count": 125,
   "id": "0a33f645",
   "metadata": {},
   "outputs": [],
   "source": [
    "from selenium import webdriver\n",
    "from selenium.webdriver.edge.service import Service\n",
    "from webdriver_manager.microsoft import EdgeChromiumDriverManager\n",
    "from selenium.webdriver.common.by import By\n",
    "from selenium.webdriver.common.keys import Keys # to use enter \n",
    "import time\n",
    "\n",
    "username = \"melibi8600@exclussi.com\"\n",
    "password = \"screener@12345\"\n",
    "\n",
    "driver = webdriver.Edge(service=Service(EdgeChromiumDriverManager().install()))\n",
    "# driver.maximize_window()    # to maximize the web page\n",
    "driver.get('https://www.screener.in/')\n",
    "\n",
    "driver.find_element(By.XPATH,\"/html/body/nav/div[2]/div/div/div/div[2]/div[2]/a[1]\").click()\n",
    "driver.find_element(By.NAME,\"username\").send_keys(username)\n",
    "time.sleep(1)\n",
    "driver.find_element(By.NAME,\"password\").send_keys(password)\n",
    "time.sleep(1)\n",
    "driver.find_element(By.XPATH,\"/html/body/main/div[2]/div[2]/form/button\").click()\n",
    "time.sleep(1)\n",
    "driver.find_element(By.XPATH,\"/html/body/div/div[2]/main/div[1]/div[2]/a[1]\").click()\n",
    "\n",
    "data = {}\n",
    "\n",
    "tr_rows = driver.find_elements(By.XPATH,\"/html/body/main/div[3]/div[3]/table/tbody/tr\")\n",
    "req_rows = len(tr_rows)\n",
    "\n",
    "for cols in range(2,19):\n",
    "    head = driver.find_element(By.XPATH,f'/html/body/main/div[3]/div[3]/table/tbody/tr[1]/th[{cols}]').text\n",
    "    data[head]=[]\n",
    "    head=''\n",
    "\n",
    "for rows in range(2,req_rows+1):\n",
    "    for cols in range(2,19):\n",
    "        head = driver.find_element(By.XPATH,f'/html/body/main/div[3]/div[3]/table/tbody/tr[1]/th[{cols}]').text\n",
    "        if cols>=2:\n",
    "            value=driver.find_element(By.XPATH,f'/html/body/main/div[3]/div[3]/table/tbody/tr[{rows}]/td[{cols+1}]').text\n",
    "        data[head].append(value)\n",
    "        head,value='',''\n",
    "\n",
    "time.sleep(1)\n",
    "print(\"Your data is Scrap from Screener.in\")\n",
    "driver.close()"
   ]
  },
  {
   "cell_type": "code",
   "execution_count": 126,
   "id": "f2e17640",
   "metadata": {},
   "outputs": [
    {
     "name": "stdout",
     "output_type": "stream",
     "text": [
      "Titan Company\n",
      "Inserted into stocks table.\n"
     ]
    }
   ],
   "source": [
    "import psycopg2\n",
    "\n",
    "conn = None\n",
    "cur = None\n",
    "\n",
    "try:\n",
    "    conn = psycopg2.connect(host='localhost', dbname='postgres',user='postgres',password=\"mypass\",port=5431)\n",
    "    cur = conn.cursor()\n",
    "    cols = [col.replace(\" \",'_') for col,_ in data.items()]\n",
    "    cols = [col.replace('%','PERCENT') for col in cols]\n",
    "    cols = [col.replace('.','') for col in cols]\n",
    "    cols = [col.replace('/','BY') for col in cols]\n",
    "    rows = [v for _,v in data.items()]\n",
    "    cur.execute(\"select name from stocks\")\n",
    "    conn.commit()\n",
    "    company_name = []\n",
    "    for i in cur.fetchall():\n",
    "        company_name.append(i[0])\n",
    "\n",
    "    row_data = []\n",
    "    li =[]\n",
    "\n",
    "    for row in range(len(rows)):\n",
    "        for col in range(len(rows[row])):\n",
    "            for r in range(len(rows)):\n",
    "                if rows[r][col] == '':\n",
    "                    li.append(0)\n",
    "                    continue\n",
    "                li.append(rows[r][col])\n",
    "            row_data.append(li)\n",
    "            li=[]\n",
    "        break\n",
    "    \n",
    "    for row in row_data:\n",
    "        if row[0] not in company_name:\n",
    "            print(row[0])\n",
    "            cur.execute(f\"\"\"\n",
    "                insert into stocks ({', '.join(cols)})\n",
    "                values ({', '.join(['%s'] * len(cols))})\n",
    "            \"\"\",row)\n",
    "            conn.commit()\n",
    "            print(\"Inserted into stocks table.\")\n",
    "        \n",
    "\n",
    "except Exception as e:\n",
    "    print(e)\n",
    "finally:\n",
    "    if cur is not None:\n",
    "        cur.close()\n",
    "    if conn is not None:\n",
    "        conn.close()"
   ]
  },
  {
   "cell_type": "code",
   "execution_count": 106,
   "id": "28304663",
   "metadata": {},
   "outputs": [
    {
     "name": "stdout",
     "output_type": "stream",
     "text": [
      "[['ITC Hotels', '199.25', '41467.40', '0.00', '0.74', 'NULL', 'NULL', 'NULL', 'NULL', 'NULL', 'NULL', 'NULL', '2596732.00', 'NULL', 'NULL', 'NULL', '54.18'], ['ITC', '420.05', '525655.64', '3.26', '5013.18', '-8.40', '9.28', '37.47', '75160.56', '28.43', '7.73', '-2.09', '3710169.00', '12.89', '16.12', '18.01', '58.08'], ['Jubilant Food.', '688.00', '45397.31', '0.18', '43.24', '-21.97', '56.06', '11.20', '7611.34', '12.98', '42.24', '4.08', '363143.00', '19.52', '5.61', '31.32', '57.96'], ['Vedanta', '384.00', '150158.96', '11.34', '4876.00', '76.20', '10.06', '20.91', '148022.00', '10.49', '1.28', '138.51', '1999975.00', '17.76', '33.58', '5.08', '26.48'], ['Infosys', '1423.05', '591030.16', '2.66', '6822.00', '11.46', '7.58', '39.99', '159988.00', '31.83', '4.44', '13.36', '2542766.00', '15.22', '66.60', '13.32', '26.53']]\n"
     ]
    }
   ],
   "source": [
    "data \n",
    "cols = [col.replace(\" \",'_') for col,_ in data.items()]\n",
    "cols = [col.replace('%','PERCENT') for col in cols]\n",
    "cols = [col.replace('.','') for col in cols]\n",
    "cols = [col.replace('/','BY') for col in cols]\n",
    "rows = [v for k,v in data.items()]\n",
    "# print(len(cols),len(rows))\n",
    "# print(cols)\n",
    "    # print(rows)\n",
    "company_name = rows[0]\n",
    "# if \n",
    "row_data = []\n",
    "li =[]\n",
    "for row in range(len(rows)):\n",
    "    for col in range(len(rows[row])):\n",
    "        for r in range(len(rows)):\n",
    "            if rows[r][col] == '':\n",
    "                li.append('NULL')\n",
    "                continue\n",
    "            li.append(rows[r][col])\n",
    "        row_data.append(li)\n",
    "        li=[]\n",
    "    break\n",
    "print(row_data)"
   ]
  },
  {
   "cell_type": "code",
   "execution_count": null,
   "id": "6d15db84",
   "metadata": {},
   "outputs": [
    {
     "name": "stdout",
     "output_type": "stream",
     "text": [
      "Name numeric,\n",
      "CMP_Rs numeric,\n",
      "Mar_Cap_RsCr numeric,\n",
      "Div_Yld_PERCENT numeric,\n",
      "NP_Qtr_RsCr numeric,\n",
      "Qtr_Profit_Var_PERCENT numeric,\n",
      "Qtr_Sales_Var_PERCENT numeric,\n",
      "ROCE_PERCENT numeric,\n",
      "Sales_RsCr numeric,\n",
      "ROE_PERCENT numeric,\n",
      "Sales_growth_PERCENT numeric,\n",
      "Profit_growth_PERCENT numeric,\n",
      "No_of_Share_Holders numeric,\n",
      "Sales_Var_3Yrs_PERCENT numeric,\n",
      "EPS_12M_Rs numeric,\n",
      "EV_BY_EBITDA numeric,\n",
      "RSI numeric,\n"
     ]
    }
   ],
   "source": [
    "# cols = [col.replace(\" \",'_') for col,_ in data.items()]\n",
    "# cols = [col.replace('%','PERCENT') for col in cols]\n",
    "# cols = [col.replace('.','') for col in cols]\n",
    "# cols = [col.replace('/','BY') for col in cols]\n",
    "# for i in cols:\n",
    "#     print(f'{i} numeric,')"
   ]
  },
  {
   "cell_type": "code",
   "execution_count": 25,
   "id": "e60e7e4e",
   "metadata": {},
   "outputs": [
    {
     "name": "stdout",
     "output_type": "stream",
     "text": [
      "Name ['Infosys', 'Vedanta']\n",
      "CMP Rs. [1403.7, 370.55]\n",
      "Mar Cap Rs.Cr. [582993.59, 144899.43]\n",
      "Div Yld % [2.71, 11.74]\n",
      "NP Qtr Rs.Cr. [6822.0, 4876.0]\n",
      "Qtr Profit Var % [11.46, 76.2]\n",
      "Qtr Sales Var % [7.58, 10.06]\n",
      "ROCE % [39.99, 20.91]\n",
      "Sales Rs.Cr. [159988.0, 148022.0]\n",
      "ROE % [31.83, 10.49]\n",
      "Sales growth % [4.44, 1.28]\n",
      "Profit growth % [13.36, 138.51]\n",
      "No. of Share Holders [2542766.0, 1999975.0]\n",
      "Sales Var 3Yrs % [15.22, 17.76]\n",
      "EPS 12M Rs. [66.6, 33.58]\n",
      "EV / EBITDA [13.13, 4.95]\n",
      "RSI [26.53, 26.48]\n"
     ]
    }
   ],
   "source": [
    "for i,j in data.items():\n",
    "    print(i,j)"
   ]
  },
  {
   "cell_type": "code",
   "execution_count": 23,
   "id": "8191a5e9",
   "metadata": {},
   "outputs": [
    {
     "name": "stdout",
     "output_type": "stream",
     "text": [
      "{'Name': [0, 1, 2]}\n"
     ]
    }
   ],
   "source": [
    "dat = {'Name': []}\n",
    "for i in range(3):\n",
    "    dat['Name'].append(i)\n",
    "print(dat)"
   ]
  },
  {
   "cell_type": "markdown",
   "id": "c9e4ab4e",
   "metadata": {},
   "source": [
    "# One single row"
   ]
  },
  {
   "cell_type": "code",
   "execution_count": 55,
   "id": "ad632164",
   "metadata": {},
   "outputs": [
    {
     "name": "stdout",
     "output_type": "stream",
     "text": [
      "      Name  CMP Rs.  Mar Cap Rs.Cr.  Div Yld %  NP Qtr Rs.Cr.  \\\n",
      "1  Infosys   1403.7       582993.59       2.71         6822.0   \n",
      "\n",
      "   Qtr Profit Var %  Qtr Sales Var %  ROCE %  Sales Rs.Cr.  ROE %  \\\n",
      "1             11.46             7.58   39.99      159988.0  31.83   \n",
      "\n",
      "   Sales growth %  Profit growth %  No. of Share Holders  Sales Var 3Yrs %  \\\n",
      "1            4.44            13.36             2542766.0             15.22   \n",
      "\n",
      "   EPS 12M Rs.  EV / EBITDA    RSI  \n",
      "1         66.6        13.13  26.53  \n"
     ]
    }
   ],
   "source": [
    "from selenium import webdriver\n",
    "from selenium.webdriver.edge.service import Service\n",
    "from webdriver_manager.microsoft import EdgeChromiumDriverManager\n",
    "from selenium.webdriver.common.by import By\n",
    "from selenium.webdriver.common.keys import Keys # to use enter \n",
    "import time\n",
    "import pandas as pd\n",
    "import numpy as np\n",
    "\n",
    "username = \"melibi8600@exclussi.com\"\n",
    "password = \"screener@12345\"\n",
    "\n",
    "driver = webdriver.Edge(service=Service(EdgeChromiumDriverManager().install()))\n",
    "# driver.maximize_window()    # to maximize the web page\n",
    "driver.get('https://www.screener.in/')\n",
    "\n",
    "driver.find_element(By.XPATH,\"/html/body/nav/div[2]/div/div/div/div[2]/div[2]/a[1]\").click()\n",
    "driver.find_element(By.NAME,\"username\").send_keys(username)\n",
    "time.sleep(2)\n",
    "driver.find_element(By.NAME,\"password\").send_keys(password)\n",
    "time.sleep(1)\n",
    "driver.find_element(By.XPATH,\"/html/body/main/div[2]/div[2]/form/button\").click()\n",
    "time.sleep(3)\n",
    "driver.find_element(By.XPATH,\"/html/body/div/div[2]/main/div[1]/div[2]/a[1]\").click()\n",
    "\n",
    "li_d=[]\n",
    "data = {}\n",
    "\n",
    "for i in range(2,19):\n",
    "    head = driver.find_element(By.XPATH,f'/html/body/main/div[3]/div[3]/table/tbody/tr[1]/th[{i}]').text \n",
    "    if i >= 2: \n",
    "        value=driver.find_element(By.XPATH,f'/html/body/main/div[3]/div[3]/table/tbody/tr[2]/td[{i+1}]').text\n",
    "        if value.isalpha():\n",
    "            pass\n",
    "        else:\n",
    "            value=float(value)\n",
    "    data[head]=value\n",
    "    head,value='',''\n",
    "    \n",
    "# data.append(data)\n",
    "df = pd.DataFrame(data,index=[1])\n",
    "print(df)\n",
    "# print(data)\n",
    "# df.to_csv('stock.csv',index=False)\n",
    "time.sleep(5)\n",
    "driver.close()"
   ]
  },
  {
   "cell_type": "code",
   "execution_count": null,
   "id": "aaec877e",
   "metadata": {},
   "outputs": [
    {
     "name": "stdout",
     "output_type": "stream",
     "text": [
      "17 17\n",
      "['Name', 'CMP_Rs', 'Mar_Cap_RsCr', 'Div_Yld_PERCENT', 'NP_Qtr_RsCr', 'Qtr_Profit_Var_PERCENT', 'Qtr_Sales_Var_PERCENT', 'ROCE_PERCENT', 'Sales_RsCr', 'ROE_PERCENT', 'Sales_growth_PERCENT', 'Profit_growth_PERCENT', 'No_of_Share_Holders', 'Sales_Var_3Yrs_PERCENT', 'EPS_12M_Rs', 'EV_BY_EBITDA', 'RSI']\n",
      "['Infosys', 1403.7, 582993.59, 2.71, 6822.0, 11.46, 7.58, 39.99, 159988.0, 31.83, 4.44, 13.36, 2542766.0, 15.22, 66.6, 13.13, 26.53]\n",
      "done\n",
      "Inserted into stocks\n"
     ]
    }
   ],
   "source": [
    "import psycopg2\n",
    "\n",
    "conn = None\n",
    "cur = None\n",
    "\n",
    "try:\n",
    "    conn = psycopg2.connect(host='localhost', dbname='postgres',user='postgres',password=\"mypass\",port=5431)\n",
    "    cur = conn.cursor()\n",
    "    cols = [col.replace(\" \",'_') for col,_ in data.items()]\n",
    "    cols = [col.replace('%','PERCENT') for col in cols]\n",
    "    cols = [col.replace('.','') for col in cols]\n",
    "    cols = [col.replace('/','BY') for col in cols]\n",
    "    rows = [v for k,v in data.items()]\n",
    "    print(len(cols),len(rows))\n",
    "    print(cols)\n",
    "    print(rows)\n",
    "    # ind = []\n",
    "\n",
    "\n",
    "    cur.execute(f\"\"\"\n",
    "                insert into stocks ({', '.join(cols)})\n",
    "                values ({', '.join(['%s'] * len(cols))})\n",
    "            \"\"\",rows)\n",
    "    print(\"done\")\n",
    "    conn.commit()\n",
    "    print('Inserted into stocks')\n",
    "except Exception as e:\n",
    "    print(e)\n",
    "finally:\n",
    "    if cur is not None:\n",
    "        cur.close()\n",
    "    if conn is not None:\n",
    "        conn.close()"
   ]
  },
  {
   "cell_type": "code",
   "execution_count": null,
   "id": "51ed8cd5",
   "metadata": {},
   "outputs": [],
   "source": []
  },
  {
   "cell_type": "code",
   "execution_count": 154,
   "id": "d5c6d7f6",
   "metadata": {},
   "outputs": [
    {
     "data": {
      "text/plain": [
       "{'Name': 'Vedanta',\n",
       " 'CMP Rs.': 370.5,\n",
       " 'Mar Cap Rs.Cr.': 144879.88,\n",
       " 'Div Yld %': 11.8,\n",
       " 'NP Qtr Rs.Cr.': 4876.0,\n",
       " 'Qtr Profit Var %': 76.2,\n",
       " 'Qtr Sales Var %': 10.06,\n",
       " 'ROCE %': 20.91,\n",
       " 'Sales Rs.Cr.': 148022.0,\n",
       " 'ROE %': 10.49,\n",
       " 'Sales growth %': 1.28,\n",
       " 'Profit growth %': 138.51,\n",
       " 'No. of Share Holders': 1999975.0,\n",
       " 'Sales Var 3Yrs %': 17.76,\n",
       " 'EPS 12M Rs.': 33.58,\n",
       " 'EV / EBITDA': 4.95,\n",
       " 'RSI': 27.58}"
      ]
     },
     "execution_count": 154,
     "metadata": {},
     "output_type": "execute_result"
    }
   ],
   "source": [
    "data"
   ]
  },
  {
   "cell_type": "code",
   "execution_count": 149,
   "id": "bd7d1983",
   "metadata": {},
   "outputs": [
    {
     "name": "stdout",
     "output_type": "stream",
     "text": [
      "17 17\n"
     ]
    }
   ],
   "source": [
    "cols = [col for col,_ in data.items()]\n",
    "rows = [v for k,v in data.items()]\n",
    "print(len(cols),len(rows))"
   ]
  },
  {
   "cell_type": "code",
   "execution_count": 155,
   "id": "3d950886",
   "metadata": {},
   "outputs": [
    {
     "data": {
      "text/plain": [
       "['Name', 'id']"
      ]
     },
     "execution_count": 155,
     "metadata": {},
     "output_type": "execute_result"
    }
   ],
   "source": [
    "z = [\"Name\",\"id\"]\n",
    "z"
   ]
  },
  {
   "cell_type": "code",
   "execution_count": 131,
   "id": "940f1ca3",
   "metadata": {},
   "outputs": [
    {
     "data": {
      "text/html": [
       "<div>\n",
       "<style scoped>\n",
       "    .dataframe tbody tr th:only-of-type {\n",
       "        vertical-align: middle;\n",
       "    }\n",
       "\n",
       "    .dataframe tbody tr th {\n",
       "        vertical-align: top;\n",
       "    }\n",
       "\n",
       "    .dataframe thead th {\n",
       "        text-align: right;\n",
       "    }\n",
       "</style>\n",
       "<table border=\"1\" class=\"dataframe\">\n",
       "  <thead>\n",
       "    <tr style=\"text-align: right;\">\n",
       "      <th></th>\n",
       "      <th>Name</th>\n",
       "      <th>CMP Rs.</th>\n",
       "      <th>Mar Cap Rs.Cr.</th>\n",
       "      <th>Div Yld %</th>\n",
       "      <th>NP Qtr Rs.Cr.</th>\n",
       "      <th>Qtr Profit Var %</th>\n",
       "      <th>Qtr Sales Var %</th>\n",
       "      <th>ROCE %</th>\n",
       "      <th>Sales Rs.Cr.</th>\n",
       "      <th>ROE %</th>\n",
       "      <th>Sales growth %</th>\n",
       "      <th>Profit growth %</th>\n",
       "      <th>No. of Share Holders</th>\n",
       "      <th>Sales Var 3Yrs %</th>\n",
       "      <th>EPS 12M Rs.</th>\n",
       "      <th>EV / EBITDA</th>\n",
       "      <th>RSI</th>\n",
       "    </tr>\n",
       "  </thead>\n",
       "  <tbody>\n",
       "    <tr>\n",
       "      <th>1</th>\n",
       "      <td>Vedanta</td>\n",
       "      <td>370.5</td>\n",
       "      <td>144879.88</td>\n",
       "      <td>11.8</td>\n",
       "      <td>4876.0</td>\n",
       "      <td>76.2</td>\n",
       "      <td>10.06</td>\n",
       "      <td>20.91</td>\n",
       "      <td>148022.0</td>\n",
       "      <td>10.49</td>\n",
       "      <td>1.28</td>\n",
       "      <td>138.51</td>\n",
       "      <td>1999975.0</td>\n",
       "      <td>17.76</td>\n",
       "      <td>33.58</td>\n",
       "      <td>4.95</td>\n",
       "      <td>27.58</td>\n",
       "    </tr>\n",
       "  </tbody>\n",
       "</table>\n",
       "</div>"
      ],
      "text/plain": [
       "      Name  CMP Rs.  Mar Cap Rs.Cr.  Div Yld %  NP Qtr Rs.Cr.  \\\n",
       "1  Vedanta    370.5       144879.88       11.8         4876.0   \n",
       "\n",
       "   Qtr Profit Var %  Qtr Sales Var %  ROCE %  Sales Rs.Cr.  ROE %  \\\n",
       "1              76.2            10.06   20.91      148022.0  10.49   \n",
       "\n",
       "   Sales growth %  Profit growth %  No. of Share Holders  Sales Var 3Yrs %  \\\n",
       "1            1.28           138.51             1999975.0             17.76   \n",
       "\n",
       "   EPS 12M Rs.  EV / EBITDA    RSI  \n",
       "1        33.58         4.95  27.58  "
      ]
     },
     "execution_count": 131,
     "metadata": {},
     "output_type": "execute_result"
    }
   ],
   "source": [
    "# df['sp']=df['Sales Rs.Cr.']*df['Profit growth %']\n",
    "# df.info()\n",
    "df.drop(['sp'],axis=1)"
   ]
  },
  {
   "cell_type": "code",
   "execution_count": null,
   "id": "579a4a06",
   "metadata": {},
   "outputs": [],
   "source": [
    "d = {'Name': 'Vedanta', 'CMP Rs.': '370.75', 'Mar Cap Rs.Cr.': '144977.65', 'Div Yld %': '11.80', 'NP Qtr Rs.Cr.': '4876.00', 'Qtr Profit Var %': '76.20', 'Qtr Sales Var %': '10.06', 'ROCE %': '20.91', 'Sales Rs.Cr.': '148022.00', 'ROE %': '10.49', 'Sales growth %': '1.28', 'Profit growth %': '138.51', 'No. of Share Holders': '1999975.00', 'Sales Var 3Yrs %': '17.76', 'EPS 12M Rs.': '33.58', 'EV / EBITDA': '4.96', 'RSI': '27.58'}\n",
    "for k,v in d.items():\n",
    "    print(f'\"{k}\" float,')"
   ]
  },
  {
   "cell_type": "code",
   "execution_count": 178,
   "id": "d51fb1c5",
   "metadata": {},
   "outputs": [
    {
     "name": "stdout",
     "output_type": "stream",
     "text": [
      "Name float,\n",
      "CMP_Rs float,\n",
      "Mar_Cap_RsCr float,\n",
      "Div_Yld_PERCENT float,\n",
      "NP_Qtr_RsCr float,\n",
      "Qtr_Profit_Var_PERCENT float,\n",
      "Qtr_Sales_Var_PERCENT float,\n",
      "ROCE_PERCENT float,\n",
      "Sales_RsCr float,\n",
      "ROE_PERCENT float,\n",
      "Sales_growth_PERCENT float,\n",
      "Profit_growth_PERCENT float,\n",
      "No_of_Share_Holders float,\n",
      "Sales_Var_3Yrs_PERCENT float,\n",
      "EPS_12M_Rs float,\n",
      "EV_BY_EBITDA float,\n",
      "RSI float,\n"
     ]
    }
   ],
   "source": [
    "for i in cols:\n",
    "    print(f\"{i} float,\")"
   ]
  },
  {
   "cell_type": "code",
   "execution_count": null,
   "id": "fcc3f1f4",
   "metadata": {},
   "outputs": [],
   "source": []
  },
  {
   "cell_type": "code",
   "execution_count": 55,
   "id": "2a0d3b66",
   "metadata": {},
   "outputs": [
    {
     "data": {
      "text/plain": [
       "True"
      ]
     },
     "execution_count": 55,
     "metadata": {},
     "output_type": "execute_result"
    }
   ],
   "source": [
    "'98'.isdigit()"
   ]
  },
  {
   "cell_type": "code",
   "execution_count": 1,
   "id": "e8505c3c",
   "metadata": {},
   "outputs": [
    {
     "data": {
      "text/plain": [
       "[[0, 0, 0, 0, 0, 0], [0, 0, 0, 0, 0, 0], [0, 0, 0, 0, 0, 0]]"
      ]
     },
     "execution_count": 1,
     "metadata": {},
     "output_type": "execute_result"
    }
   ],
   "source": [
    "rows, cols = 3,6\n",
    "my_matrix = [([0]*cols) for i in range(rows)]\n",
    "my_matrix"
   ]
  },
  {
   "cell_type": "code",
   "execution_count": null,
   "id": "01718312",
   "metadata": {},
   "outputs": [],
   "source": []
  },
  {
   "cell_type": "markdown",
   "id": "49419b82",
   "metadata": {},
   "source": [
    "### Code to automate YT shorts scrolling action\n",
    "\n",
    "```python\n",
    "# Automate scrolling action for YT shorts\n",
    "\n",
    "from selenium import webdriver\n",
    "from selenium.webdriver.edge.service import Service\n",
    "from webdriver_manager.microsoft import EdgeChromiumDriverManager\n",
    "from selenium.webdriver.common.by import By\n",
    "from selenium.webdriver.common.keys import Keys # to use enter \n",
    "import time\n",
    "\n",
    "driver = webdriver.Edge(service=Service(EdgeChromiumDriverManager().install()))\n",
    "# driver.maximize_window()    # to maximize the web page\n",
    "driver.get('https://www.youtube.com/shorts/jxHyGE_WuVM')\n",
    "time.sleep(5)\n",
    "\n",
    "# input = driver.find_element(By.XPATH,'/html/body/main/div[2]/div/div/div/input')\n",
    "input = driver.find_element(By.XPATH,'/html/body/ytd-app/div[1]/ytd-page-manager/ytd-shorts/div[3]/div[2]/ytd-reel-video-renderer[1]/div[1]/div[2]/div[1]/ytd-player/div/div/div[8]/button')\n",
    "input.click()\n",
    "\n",
    "for i in range(5):\n",
    "    next=driver.find_element(By.XPATH,'/html/body/ytd-app/div[1]/ytd-page-manager/ytd-shorts/div[5]/div[2]/ytd-button-renderer/yt-button-shape/button/yt-touch-feedback-shape/div/div[2]')\n",
    "    next.click()\n",
    "    time.sleep(5)\n",
    "\n",
    "\n",
    "```"
   ]
  }
 ],
 "metadata": {
  "kernelspec": {
   "display_name": "Python 3",
   "language": "python",
   "name": "python3"
  },
  "language_info": {
   "codemirror_mode": {
    "name": "ipython",
    "version": 3
   },
   "file_extension": ".py",
   "mimetype": "text/x-python",
   "name": "python",
   "nbconvert_exporter": "python",
   "pygments_lexer": "ipython3",
   "version": "3.13.2"
  }
 },
 "nbformat": 4,
 "nbformat_minor": 5
}
