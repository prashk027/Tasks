{
 "cells": [
  {
   "cell_type": "markdown",
   "id": "9439909a",
   "metadata": {},
   "source": [
    "# Scrap data from screener"
   ]
  },
  {
   "cell_type": "code",
   "execution_count": null,
   "id": "ac786604",
   "metadata": {},
   "outputs": [],
   "source": []
  }
 ],
 "metadata": {
  "language_info": {
   "name": "python"
  }
 },
 "nbformat": 4,
 "nbformat_minor": 5
}
