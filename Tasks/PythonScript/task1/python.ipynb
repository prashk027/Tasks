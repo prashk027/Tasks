{
 "cells": [
  {
   "cell_type": "code",
   "execution_count": 2,
   "metadata": {},
   "outputs": [],
   "source": [
    "from collections import defaultdict\n"
   ]
  },
  {
   "cell_type": "code",
   "execution_count": 5,
   "metadata": {},
   "outputs": [
    {
     "name": "stdout",
     "output_type": "stream",
     "text": [
      "2025-04-02 19:43:44.201691\n",
      "2025-04-02 19:43:44.201691\n"
     ]
    }
   ],
   "source": [
    "import datetime\n",
    "\n",
    "# d = datetime.date(2025,7,24)\n",
    "tday = datetime.datetime.today()\n",
    "\n",
    "print(tday.strftime(\"%Y-%m-%d %H:%M:%S.%f\"))\n",
    "print(tday)\n",
    "# print(tday.strftime(\"%H:%M:%S:%f\"))\n",
    "# print(tday.month)\n",
    "# print(tday.weekday())\n",
    "# print(tday.isoweekday())"
   ]
  },
  {
   "cell_type": "code",
   "execution_count": null,
   "metadata": {},
   "outputs": [
    {
     "data": {
      "text/plain": [
       "4.1"
      ]
     },
     "execution_count": 6,
     "metadata": {},
     "output_type": "execute_result"
    }
   ],
   "source": [
    "cur.execute(f\"\"\"\n",
    "        SELECT column_name\n",
    "        FROM information_schema.columns\n",
    "        WHERE table_schema = '{schema}'\n",
    "        AND table_name = '{table}'\n",
    "        AND column_name = 'created_at';\n",
    "    \"\"\")\n",
    "    if not cur.fetchone():\n",
    "        cur.execute(f\"ALTER TABLE {schema}.{table} ADD COLUMN created_at TIMESTAMP DEFAULT CURRENT_TIMESTAMP;\")\n",
    "        conn.commit()\n",
    "        print(\"\\n Added 'created_at' column to the table.\")\n",
    "    cur.close()"
   ]
  },
  {
   "cell_type": "code",
   "execution_count": null,
   "metadata": {},
   "outputs": [],
   "source": []
  }
 ],
 "metadata": {
  "kernelspec": {
   "display_name": "Python 3",
   "language": "python",
   "name": "python3"
  },
  "language_info": {
   "codemirror_mode": {
    "name": "ipython",
    "version": 3
   },
   "file_extension": ".py",
   "mimetype": "text/x-python",
   "name": "python",
   "nbconvert_exporter": "python",
   "pygments_lexer": "ipython3",
   "version": "3.13.2"
  }
 },
 "nbformat": 4,
 "nbformat_minor": 2
}
